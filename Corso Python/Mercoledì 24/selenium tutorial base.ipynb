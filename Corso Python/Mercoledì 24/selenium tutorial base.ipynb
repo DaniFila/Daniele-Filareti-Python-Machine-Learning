{
 "cells": [
  {
   "cell_type": "markdown",
   "metadata": {},
   "source": [
    "# Tutorial sulla libreria Selenium in Python\n",
    "\n",
    "### Prima installiamo la libreria con pip"
   ]
  },
  {
   "cell_type": "code",
   "execution_count": null,
   "metadata": {},
   "outputs": [],
   "source": [
    "!pip install -U selenium"
   ]
  },
  {
   "cell_type": "markdown",
   "metadata": {},
   "source": [
    "### Procediamo con l'importazione delle librerie necessarie"
   ]
  },
  {
   "cell_type": "code",
   "execution_count": 29,
   "metadata": {},
   "outputs": [],
   "source": [
    "\n",
    "from selenium import webdriver\n",
    "from selenium.webdriver.common.by import By\n",
    "from selenium.webdriver.common.keys import Keys\n",
    "from selenium.webdriver.support.ui import WebDriverWait\n",
    "from selenium.webdriver.support import expected_conditions as EC\n",
    "from selenium.webdriver.chrome.service import Service\n",
    "from selenium.webdriver.chrome.options import Options\n",
    "import time"
   ]
  },
  {
   "cell_type": "markdown",
   "metadata": {},
   "source": [
    "### Configuriamo ora il WebDriver con Chrome"
   ]
  },
  {
   "cell_type": "code",
   "execution_count": 30,
   "metadata": {},
   "outputs": [],
   "source": [
    "def setup_driver():\n",
    "    \"\"\"\n",
    "    Configura e restituisce un'istanza del WebDriver di Chrome.\n",
    "    \"\"\"\n",
    "    #chrome_options = Options()\n",
    "    #chrome_options.add_argument(\"--headless\")  # Esecuzione in background\n",
    "    #driver = webdriver.Chrome(options=chrome_options)\n",
    "    driver = webdriver.Chrome()\n",
    "    return driver"
   ]
  },
  {
   "cell_type": "markdown",
   "metadata": {},
   "source": [
    "#### In questa cella abbiamo creato una funzione nella quale:\n",
    "- Avviamo il webdriver con chrome per poter interagire con le pagine web;\n",
    "- Volendo possiamo impostare varie opzioni tra cui la possibilità di eseguire il tutto in modalità headless."
   ]
  },
  {
   "cell_type": "markdown",
   "metadata": {},
   "source": [
    "### Ora partiamo con i primi comandi per la navigazione di base"
   ]
  },
  {
   "cell_type": "code",
   "execution_count": 31,
   "metadata": {},
   "outputs": [],
   "source": [
    "def basic_navigation(driver):\n",
    "    \"\"\"\n",
    "    Dimostra la navigazione di base con Selenium.\n",
    "    \"\"\"\n",
    "    driver.get(\"https://www.python.org\")\n",
    "    print(f\"Titolo della pagina: {driver.title}\")\n",
    "    time.sleep(5)\n",
    "    search_bar = driver.find_element(By.NAME, \"q\")\n",
    "    search_bar.clear()\n",
    "    search_bar.send_keys(\"selenium\" + Keys.RETURN)\n",
    "    \n",
    "    WebDriverWait(driver, 10).until(\n",
    "        EC.presence_of_element_located((By.CLASS_NAME, \"list-recent-events\"))\n",
    "    )\n",
    "    time.sleep(5)\n",
    "    driver.quit()\n",
    "    print(\"Ricerca completata\")"
   ]
  },
  {
   "cell_type": "markdown",
   "metadata": {},
   "source": [
    "#### In questa cella abbiamo creato una funzione in cui:\n",
    "- driver.get() naviga a un URL specifico.\n",
    "- find_element() trova elementi nella pagina usando vari metodi (NAME, ID, CLASS_NAME, ecc.).\n",
    "- send_keys() simula l'input da tastiera.\n",
    "- WebDriverWait implementa un'attesa esplicita per assicurarsi che certi elementi siano caricati."
   ]
  },
  {
   "cell_type": "markdown",
   "metadata": {},
   "source": [
    "### Iniziamo ora a testare le prime 2 funzioni:"
   ]
  },
  {
   "cell_type": "code",
   "execution_count": 18,
   "metadata": {},
   "outputs": [
    {
     "name": "stdout",
     "output_type": "stream",
     "text": [
      "Titolo della pagina: Welcome to Python.org\n",
      "Ricerca completata\n"
     ]
    }
   ],
   "source": [
    "driver = setup_driver()\n",
    "\n",
    "basic_navigation(driver)"
   ]
  },
  {
   "cell_type": "markdown",
   "metadata": {},
   "source": [
    "### Creiamo ora una funzione per interagire con gli elementi della pagina"
   ]
  },
  {
   "cell_type": "code",
   "execution_count": 38,
   "metadata": {},
   "outputs": [],
   "source": [
    "def interact_with_elements(driver):\n",
    "    \"\"\"\n",
    "    Dimostra l'interazione con vari elementi della pagina.\n",
    "    \"\"\"\n",
    "    driver.get(\"https://www.python.org\")\n",
    "    time.sleep(5)\n",
    "    # Clic su un link\n",
    "    about_link = driver.find_element(By.ID, \"about\")\n",
    "    about_link.click()\n",
    "    time.sleep(5)\n",
    "\n",
    "    # Selezionare da un dropdown\n",
    "    driver.get(\"https://www.w3schools.com/tags/tryit.asp?filename=tryhtml_select\")\n",
    "    time.sleep(5)\n",
    "    button_privacy = driver.find_element(By.ID, \"accept-choices\")\n",
    "    button_privacy.click()\n",
    "    time.sleep(5)\n",
    "    driver.switch_to.frame(\"iframeResult\")\n",
    "    from selenium.webdriver.support.ui import Select\n",
    "    dropdown = Select(driver.find_element(By.ID, \"cars\"))\n",
    "    dropdown.select_by_visible_text(\"Audi\")\n",
    "    time.sleep(5)\n",
    "    button_dropdown = driver.find_element(By.XPATH, \"/html/body/form/input\")\n",
    "    button_dropdown.click()\n",
    "    time.sleep(5)\n",
    "    \n",
    "    # Gestione di alert\n",
    "    driver.get(\"https://www.w3schools.com/js/tryit.asp?filename=tryjs_alert\")\n",
    "    driver.switch_to.frame(\"iframeResult\")\n",
    "    time.sleep(5)\n",
    "    driver.find_element(By.TAG_NAME, \"button\").click()\n",
    "    alert = driver.switch_to.alert\n",
    "    print(f\"Testo dell'alert: {alert.text}\")\n",
    "    time.sleep(5)\n",
    "    alert.accept()\n",
    "    time.sleep(5)\n",
    "    driver.quit()"
   ]
  },
  {
   "cell_type": "markdown",
   "metadata": {},
   "source": [
    "#### In questa cella abbiamo creato una funzione nella quale: \n",
    "- click() simula il clic del mouse su un elemento.\n",
    "- switch_to.frame() permette di interagire con elementi all'interno di un iframe.\n",
    "- Select è utilizzato per interagire con menu a discesa.\n",
    "- switch_to.alert gestisce finestre di alert JavaScript."
   ]
  },
  {
   "cell_type": "markdown",
   "metadata": {},
   "source": [
    "### Vediamo ora il risultato di questa nuova funzione:"
   ]
  },
  {
   "cell_type": "code",
   "execution_count": 39,
   "metadata": {},
   "outputs": [
    {
     "name": "stdout",
     "output_type": "stream",
     "text": [
      "Testo dell'alert: I am an alert box!\n"
     ]
    }
   ],
   "source": [
    "driver = setup_driver()\n",
    "interact_with_elements(driver)"
   ]
  },
  {
   "cell_type": "markdown",
   "metadata": {},
   "source": [
    "### Vediamo ora  come si fa Scraping di dati"
   ]
  },
  {
   "cell_type": "code",
   "execution_count": 44,
   "metadata": {},
   "outputs": [],
   "source": [
    "def scrape_data(driver):\n",
    "    \"\"\"\n",
    "    Dimostra come estrarre dati da una pagina web.\n",
    "    \"\"\"\n",
    "    driver.get(\"https://www.python.org/events/python-events/\")\n",
    "    event_times = driver.find_elements(By.CLASS_NAME, \"event-location\")\n",
    "    event_titles = driver.find_elements(By.CLASS_NAME, \"event-title\")\n",
    "    \n",
    "    for time, title in zip(event_times, event_titles):\n",
    "        print(f\"{time.text}: {title.text}\")\n",
    "    driver.quit()"
   ]
  },
  {
   "cell_type": "markdown",
   "metadata": {},
   "source": [
    "#### In questa cella abbiamo creato una funzione nella quale: \n",
    "- find_elements() restituisce una lista di tutti gli elementi che corrispondono al criterio.\n",
    "- Usiamo zip() per iterare su due liste contemporaneamente."
   ]
  },
  {
   "cell_type": "markdown",
   "metadata": {},
   "source": [
    "### Vediamo il risultato:"
   ]
  },
  {
   "cell_type": "code",
   "execution_count": 45,
   "metadata": {},
   "outputs": [
    {
     "name": "stdout",
     "output_type": "stream",
     "text": [
      "Moscow, Russia: PyCon Russia 2024\n",
      "Columbus, USA: PyOhio 2024\n",
      "Natal, Brazil: Python Nordeste 2024\n",
      "Buea, Cameroon: Python Communities - South West Region\n",
      "Mogadishu, Somalia: PyCon Somalia 2024\n",
      "Wellington, Aoetaroa, New Zealand: Kiwi PyCon XIII\n",
      "Douala, Cameroon: Python Communities - University of Douala\n",
      "Eindhoven, Netherlands: PyData Eindhoven 2024\n"
     ]
    }
   ],
   "source": [
    "driver = setup_driver()\n",
    "scrape_data(driver)"
   ]
  },
  {
   "cell_type": "markdown",
   "metadata": {},
   "source": [
    "### Vediamo ora come si gestiscono le finestre e schede:"
   ]
  },
  {
   "cell_type": "code",
   "execution_count": 48,
   "metadata": {},
   "outputs": [],
   "source": [
    "def handle_windows_and_tabs(driver):\n",
    "    \"\"\"\n",
    "    Dimostra come gestire multiple finestre e schede.\n",
    "    \"\"\"\n",
    "    driver.get(\"https://www.python.org\")\n",
    "    original_window = driver.current_window_handle\n",
    "    time.sleep(5)\n",
    "\n",
    "    # Apre una nuova scheda\n",
    "    driver.execute_script(\"window.open('');\")\n",
    "    driver.switch_to.window(driver.window_handles[1])\n",
    "    driver.get(\"https://docs.python.org/3/\")\n",
    "    print(f\"Nuova pagina: {driver.title}\")\n",
    "    time.sleep(5)\n",
    "    # Torna alla scheda originale\n",
    "    driver.switch_to.window(original_window)\n",
    "    print(f\"Tornato alla pagina: {driver.title}\")\n",
    "    time.sleep(5)\n",
    "    driver.quit()"
   ]
  },
  {
   "cell_type": "markdown",
   "metadata": {},
   "source": [
    "#### In questa cella abbiamo creato una funzione nella quale: \n",
    "\n",
    "- execute_script() esegue JavaScript nel browser.\n",
    "- switch_to.window() permette di cambiare la scheda o finestra attiva."
   ]
  },
  {
   "cell_type": "markdown",
   "metadata": {},
   "source": [
    "### Testiamo ora il risultato:"
   ]
  },
  {
   "cell_type": "code",
   "execution_count": 49,
   "metadata": {},
   "outputs": [
    {
     "name": "stdout",
     "output_type": "stream",
     "text": [
      "Nuova pagina: 3.12.4 Documentation\n",
      "Tornato alla pagina: Welcome to Python.org\n"
     ]
    }
   ],
   "source": [
    "driver = setup_driver()\n",
    "handle_windows_and_tabs(driver)"
   ]
  },
  {
   "cell_type": "markdown",
   "metadata": {},
   "source": [
    "### Vediamo ora come si gestiscono i cookie:"
   ]
  },
  {
   "cell_type": "code",
   "execution_count": 66,
   "metadata": {},
   "outputs": [],
   "source": [
    "def manage_cookies(driver):\n",
    "    \"\"\"\n",
    "    Dimostra come gestire i cookie.\n",
    "    \"\"\"\n",
    "    driver.get(\"https://www.python.org\")\n",
    "\n",
    "    # Aggiunge un nuovo cookie\n",
    "    driver.add_cookie({\"name\": \"esempio_cookie\", \"value\": \"123456\"})\n",
    "    \n",
    "    # Ottiene tutti i cookie\n",
    "    cookies = driver.get_cookies()\n",
    "    for cookie in cookies: \n",
    "        print(\"Cookie:\", cookie)\n",
    "    \n",
    "    \n",
    "    # Cancella un cookie specifico\n",
    "    driver.delete_cookie(\"esempio_cookie\")\n",
    "    time.sleep(5)\n",
    "    driver.quit()"
   ]
  },
  {
   "cell_type": "markdown",
   "metadata": {},
   "source": [
    "#### In questa cella abbiamo creato una funzione nella quale: \n",
    "- add_cookie() aggiunge un nuovo cookie.\n",
    "- get_cookies() restituisce tutti i cookie attuali.\n",
    "- delete_cookie() rimuove un cookie specifico."
   ]
  },
  {
   "cell_type": "markdown",
   "metadata": {},
   "source": [
    "### Vediamo il risultato:"
   ]
  },
  {
   "cell_type": "code",
   "execution_count": 67,
   "metadata": {},
   "outputs": [
    {
     "name": "stdout",
     "output_type": "stream",
     "text": [
      "Cookie: {'domain': '.python.org', 'expiry': 1721298321, 'httpOnly': False, 'name': '__utmb', 'path': '/', 'sameSite': 'Lax', 'secure': False, 'value': '32101439.1.10.1721296521'}\n",
      "Cookie: {'domain': '.python.org', 'expiry': 1721297121, 'httpOnly': False, 'name': '__utmt', 'path': '/', 'sameSite': 'Lax', 'secure': False, 'value': '1'}\n",
      "Cookie: {'domain': '.python.org', 'expiry': 1737064521, 'httpOnly': False, 'name': '__utmz', 'path': '/', 'sameSite': 'Lax', 'secure': False, 'value': '32101439.1721296521.1.1.utmcsr=(direct)|utmccn=(direct)|utmcmd=(none)'}\n",
      "Cookie: {'domain': '.python.org', 'httpOnly': False, 'name': '__utmc', 'path': '/', 'sameSite': 'Lax', 'secure': False, 'value': '32101439'}\n",
      "Cookie: {'domain': '.python.org', 'expiry': 1755856521, 'httpOnly': False, 'name': '__utma', 'path': '/', 'sameSite': 'Lax', 'secure': False, 'value': '32101439.542030225.1721296521.1721296521.1721296521.1'}\n",
      "Cookie: {'domain': 'www.python.org', 'httpOnly': False, 'name': 'esempio_cookie', 'path': '/', 'sameSite': 'Lax', 'secure': True, 'value': '123456'}\n",
      "Cookie: {'domain': '.python.org', 'expiry': 1755856521, 'httpOnly': False, 'name': '_ga', 'path': '/', 'sameSite': 'Lax', 'secure': False, 'value': 'GA1.1.542030225.1721296521'}\n",
      "Cookie: {'domain': '.python.org', 'expiry': 1755856521, 'httpOnly': False, 'name': '_ga_TF35YF9CVH', 'path': '/', 'sameSite': 'Lax', 'secure': False, 'value': 'GS1.1.1721296521.1.0.1721296521.0.0.0'}\n"
     ]
    }
   ],
   "source": [
    "driver = setup_driver()\n",
    "manage_cookies(driver)"
   ]
  },
  {
   "cell_type": "markdown",
   "metadata": {},
   "source": [
    "### Vediamo ora come fare uno Screenshot:"
   ]
  },
  {
   "cell_type": "code",
   "execution_count": 72,
   "metadata": {},
   "outputs": [],
   "source": [
    "def take_screenshot(driver):\n",
    "    \"\"\"\n",
    "    Dimostra come catturare screenshot.\n",
    "    \"\"\"\n",
    "    driver.get(\"https://www.python.org\")\n",
    "    \n",
    "    #rimpiccioliamo la pagina così da avere lo screen di tutta la pagina\n",
    "    driver.execute_script(\"document.body.style.zoom='30%'\")\n",
    "    time.sleep(5)\n",
    "    driver.save_screenshot(\"python_org.png\")\n",
    "    print(\"Screenshot salvato come 'python_org.png'\")\n",
    "\n",
    "    driver.quit()"
   ]
  },
  {
   "cell_type": "markdown",
   "metadata": {},
   "source": [
    "#### Avviamo la funzione e vediamo lo screenshot:"
   ]
  },
  {
   "cell_type": "code",
   "execution_count": 73,
   "metadata": {},
   "outputs": [
    {
     "name": "stdout",
     "output_type": "stream",
     "text": [
      "Screenshot salvato come 'python_org.png'\n"
     ]
    }
   ],
   "source": [
    "driver = setup_driver()\n",
    "take_screenshot(driver)"
   ]
  },
  {
   "cell_type": "markdown",
   "metadata": {},
   "source": [
    "## Esercizi"
   ]
  },
  {
   "cell_type": "code",
   "execution_count": null,
   "metadata": {},
   "outputs": [],
   "source": [
    "# Esercizio 1: Ricerca su Wikipedia\n",
    "def wikipedia_search():\n",
    "    \"\"\"\n",
    "    Visita Wikipedia, cerca \"Python (programming language)\", \n",
    "    e stampa il primo paragrafo della pagina risultante.\n",
    "    \"\"\"\n",
    "    # Il tuo codice qui\n",
    "    pass\n",
    "\n",
    "# Esercizio 2: Login su un sito di pratica\n",
    "def practice_login():\n",
    "    \"\"\"\n",
    "    Visita https://practicetestautomation.com/practice-test-login/\n",
    "    Effettua il login con username \"student\" e password \"Password123\"\n",
    "    Verifica che il login sia avvenuto con successo\n",
    "    \"\"\"\n",
    "    # Il tuo codice qui\n",
    "    pass\n",
    "\n",
    "# Esercizio 3: Scraping di una tabella\n",
    "def table_scraping():\n",
    "    \"\"\"\n",
    "    Visita https://www.w3schools.com/html/html_tables.asp\n",
    "    Estrai i dati dalla prima tabella sulla pagina e stampali in formato leggibile\n",
    "    \"\"\"\n",
    "    # Il tuo codice qui\n",
    "    pass\n",
    "\n",
    "# Esercizio 4: Gestione di un form dinamico\n",
    "def dynamic_form():\n",
    "    \"\"\"\n",
    "    Visita https://demoqa.com/dynamic-properties\n",
    "    Attendi che il bottone \"Visible After 5 Seconds\" appaia\n",
    "    Cliccalo e verifica che l'azione sia stata eseguita con successo\n",
    "    \"\"\"\n",
    "    # Il tuo codice qui\n",
    "    pass\n",
    "\n",
    "\n",
    "# Esercizio 5: Web Scraping Avanzato\n",
    "def advanced_scraping():\n",
    "    \"\"\"\n",
    "    Visita https://news.ycombinator.com/\n",
    "    Estrai i titoli, i link e i punteggi dei primi 3 articoli\n",
    "    Salva questi dati in un file CSV\n",
    "    \"\"\"\n",
    "    # Il tuo codice qui\n",
    "    pass"
   ]
  }
 ],
 "metadata": {
  "kernelspec": {
   "display_name": "Python 3",
   "language": "python",
   "name": "python3"
  },
  "language_info": {
   "codemirror_mode": {
    "name": "ipython",
    "version": 3
   },
   "file_extension": ".py",
   "mimetype": "text/x-python",
   "name": "python",
   "nbconvert_exporter": "python",
   "pygments_lexer": "ipython3",
   "version": "3.11.3"
  }
 },
 "nbformat": 4,
 "nbformat_minor": 2
}
